{
 "cells": [
  {
   "cell_type": "code",
   "execution_count": 1,
   "metadata": {},
   "outputs": [],
   "source": [
    "import os\n",
    "import numpy as np\n",
    "import json"
   ]
  },
  {
   "cell_type": "markdown",
   "metadata": {},
   "source": [
    "# ⭐️ Pulling in processed lyrics JSON from DeepRapper\n",
    "\n",
    "In `deeprapper_dict` the keys to note are \n",
    "- `Song` : maps the lyrical content to beats\n",
    "    - example: [BEAT] In [BEAT] whirl [BEAT] whirl [BEAT] [SEP] whirl [BEAT] outside [BEAT] [SEP] [BEAT] fan [BEAT] lost [BEAT] [BEAT] when\n",
    "\n",
    "<br />\n",
    "\n",
    "- `finals`: maps the phonetic content to beats (not perfect phonetic translation bc of the chinese / english conversion)\n",
    "    - example: [BEAT] ai [BEAT] an [BEAT] o [BEAT] ong [SEP] an o [BEAT] i [BEAT] ai [SEP] [BEAT] i [BEAT] i [BEAT] ai [BEAT] i\n",
    "\n",
    "<br />\n",
    "\n",
    "- `sentence`: maps the given word to the bar it is in\n",
    "    - example: 0 0 0 0 0 0 0 0 0 1 1 1 1 1 1 1 2 2 2 2 2 2 2 2 2 2 2 2 2 2 2 2 2 2 2 2 2 2 3 3 3 3 3 3 3\n",
    "\n",
    "<br />\n",
    "\n",
    "NOTE: we do not know what `relative position` encodes. Example output:\n",
    "- [BEAT] 0 [BEAT] 1 [BEAT] 2 [BEAT] 3 [SEP] 0 1 [BEAT] 2 [BEAT] 3 [SEP] [BEAT] 0 [BEAT] 1 [BEAT] 2 [BEAT] 3 [BEAT] ] 4 5 6 [BEAT] 7 [BEAT] 8 9 [BEAT] 10 [BEAT] 11 [SEP] [BEAT] 0 [BEAT] 1 [BEAT] 2 [BEAT] 3 [BEAT] 4 5 6 [BEAT] 7 8 [BEAT] 9\n",
    "\n",
    "Do the beats line up to the bar? Probably not, because each [BEAT] number is increasing.\n",
    "\n",
    "<br /><br />"
   ]
  },
  {
   "cell_type": "markdown",
   "metadata": {},
   "source": [
    "#### super long raw song string from lyrics.json in deep rapper"
   ]
  },
  {
   "cell_type": "code",
   "execution_count": 2,
   "metadata": {},
   "outputs": [],
   "source": [
    "one_song = \" {'Singer': 'rap_Kung Fu Fat KungFuPen', 'Album': 'Light Up Live Action LIVE Compilation', 'Song Title': 'Be Like Flame (Light Up Live Version))', 'Song': '[BEAT] In [BEAT] whirl [BEAT] whirl [BEAT] [SEP] whirl [BEAT] outside [BEAT] [SEP] [BEAT] fan [BEAT] lost [BEAT] [BEAT] when [BEAT] [BEAT] Empty was born [BEAT] The net of life [BEAT] [BEAT] covered [BEAT] covered [SEP] [BEAT] The [BEAT] of [BEAT] in the dream [BEAT] [BEAT] wild [BEAT] beast is sinking [BEAT] sleeping in [BEAT] remember [BEAT] remember [BEAT] deep [BEAT] place [SEP] [BEAT] where [BEAT] says [BEAT] reason [BEAT] think [BEAT] home [BEAT] garden only [BEAT] because of [BEAT] ] For [BEAT] you [BEAT] far [BEAT] way [BEAT] and [BEAT] come [SEP] I [BEAT] we [BEAT] do not [BEAT] need [BEAT] to understand [SEP] [BEAT] in [BEAT] It hurts [BEAT] It hurts [SEP] [BEAT] It hurts [BEAT] It hurts [BEAT] outside [SEP] You saw [BEAT] from [BEAT] smoke [BEAT] to [SEP] [BEAT] ] No [BEAT] method [BEAT] forbearance [BEAT] subject to [BEAT] [BEAT] not only [BEAT] is [BEAT] one [BEAT] step [BEAT] step [BEAT] back [BEAT] let [SEP][ BEAT] is [BEAT] with [BEAT] love [BEAT] with [BEAT] name [BEAT] meaning [BEAT] sacrifice [BEAT] sacrifice [BEAT] with [BEAT] love [BEAT] with [BEAT] name [BEAT] Righteousness [BEAT] left [BEAT] forget [SEP] heart [BEAT] there is a long bank thousand [BEAT] [BEAT] collapse [BEAT] in the ant [BEAT] hole [SEP] ash [BEAT] ash [BEAT] yes [BEAT] You [BEAT] are [BEAT] I am [BEAT] Yesterday [BEAT] day [SEP] [BEAT] day [BEAT] hall [BEAT] [BEAT] destroyed [BEAT] in [BEAT] once [BEAT] ] place [BEAT] square [SEP] [BEAT] this [BEAT] bar [BEAT] road [BEAT] from [BEAT] to [BEAT] to walk [BEAT] to move [SEP] straight [BEAT] to [BEAT] raw [BEAT] live out [BEAT] and show some kind of [BEAT] like [BEAT] sign [SEP] strangers [BEAT] born [BEAT] people you [BEAT] when you come to [BEAT] bring [BEAT] letter [BEAT] things [SEP] ]', 'Song reverse': 'In the [BEAT] vortex [BEAT] whirl [BEAT] outside the [BEAT] [SEP] [BEAT] whirlpool [SEP] cover [BEAT] cover [BEAT] net [BEAT] life [BEAT] life When being empty [BEAT] [BEAT] at [BEAT] lost [BEAT] fan [BEAT] [SEP] [BEAT] deep [BEAT] memory [BEAT] remember [BEAT] sleeping [BEAT] Shen Zheng beast [BEAT] ] Wild [BEAT] in [BEAT] in [BEAT] dream [BEAT] [SEP] to [BEAT] and [BEAT] way [BEAT] far [BEAT] you [BEAT] for [BEAT] because of [BEAT] Gion [BEAT] My family [BEAT] wants to [BEAT] and [BEAT] means [BEAT] what [BEAT] [SEP] knows [BEAT] needs [BEAT] does not [BEAT] you [BEAT] I [SEP] are in pain[ BEAT] pain [BEAT] outside [BEAT] [SEP] [BEAT] pain [BEAT] pain [BEAT] [SEP] to [BEAT] after fancy smoke [BEAT] nitrate [BEAT] from you [SEP] let [BEAT] step back [BEAT] step [BEAT] step [BEAT] one [BEAT] is [BEAT] only not [BEAT] of [BEAT] subject to [BEAT] endure [BEAT] method [BEAT] no [BEAT] [SEP ] Forget [BEAT] bequeath [BEAT] meaning [BEAT] name [BEAT] [BEAT] love [BEAT] sacrifice [BEAT] sacrifice [BEAT] meaning [BEAT] name [BEAT] [BEAT] love [BEAT] With [BEAT] it is [BEAT] [SEP] cave [BEAT] ants in [BEAT] collapse [BEAT] [BEAT] Qiandichang has [BEAT] heart [SEP] days [BEAT] Yesterday [BEAT] It's me [BEAT] is [BEAT] you [BEAT] is [BEAT] in ash [BEAT] ash [SEP] [BEAT] in the [BEAT] land [BEAT] destroyed [BEAT] in [BEAT] on [ BEAT] Church [BEAT] Days [BEAT] [SEP] Actively feel yourself [BEAT] walk [BEAT] yourself [BEAT] from [BEAT] road [BEAT] strips [BEAT] this [BEAT][SEP] sign [BEAT] something like [BEAT]BEAT] come out [BEAT] give birth [BEAT] to [BEAT] straight [SEP] thing [BEAT] believe [BEAT] when bring [BEAT] come [BEAT] you [BEAT] give birth to [BEAT] stranger [SEP] ', 'finals': '[BEAT] ai [BEAT] an [BEAT] o [BEAT] ong [SEP] an o [BEAT] i [BEAT] ai [SEP] [BEAT] i [BEAT] i [BEAT] ai [BEAT] i [BEAT] ] ong ei en [BEAT] in [BEAT] i ang [BEAT] u [BEAT] ai [SEP] [BEAT] en [BEAT] ong [BEAT] e [BEAT] ie [BEAT] ou en en [BEAT] ei ai [BEAT] i [BEAT] i [BEAT] en [BEAT] u [SEP] [BEAT] o [BEAT] ei [BEAT] i [BEAT] ang [BEAT] a [BEAT] an i [BEAT] in [ BEAT] ei [BEAT] i [BEAT] an [BEAT] ao [BEAT] er [BEAT] ai [SEP] o [BEAT] en [BEAT] u [BEAT] i [BEAT] ao ong [SEP] [BEAT] ai [BEAT] en [BEAT] ong ong [SEP] [BEAT] en [BEAT] ong i [BEAT] ai [SEP] i ong [BEAT] ao [BEAT] an ong an o [BEAT] ai [SEP] [ BEAT] u [BEAT] a [BEAT] en [BEAT] ou [BEAT] e [BEAT] ui [BEAT] i [BEAT] i [BEAT] u [BEAT] u [BEAT] ei [BEAT] ang [SEP] [BEAT] i [BEAT] i [BEAT] ai [BEAT] e [BEAT] in [BEAT] i [BEAT] i [BEAT] en [BEAT] i [BEAT] ai [BEAT] e [BEAT] in [BEAT] ] i [BEAT] i[BEAT] ang [SEP] in [BEAT] ou ang i an [BEAT] i [BEAT] ei [BEAT] ii [BEAT] ie [SEP] ei [BEAT] in ong [BEAT] i [BEAT] i [BEAT] ] i [BEAT] oi [BEAT] o [BEAT] an [SEP] [BEAT] an [BEAT] ang [BEAT] ou [BEAT] ai [BEAT] ei ei [BEAT] o [BEAT] ee [BEAT] ang [SEP] [BEAT] e [BEAT] ao [BEAT] u [BEAT] i [BEAT] i [BEAT] ou [BEAT] ii an ong [SEP] i [BEAT] ao [BEAT] en [BEAT] ou [ BEAT] an ou ong [BEAT] ang [BEAT] en [SEP] o [BEAT] en [BEAT] en i [BEAT] ai [BEAT] i ai [BEAT] e in [BEAT] u [SEP]', ' Reverse finals': 'ong [BEAT] o [BEAT] an [BEAT] ai [BEAT] [SEP] ai [BEAT] i [BEAT] o an [SEP] ai [BEAT] u [BEAT] ang i [BEAT] in [BEAT] en ei ong [BEAT] i [BEAT] ai [BEAT] i [BEAT] i [BEAT] [SEP] u [BEAT] en [BEAT] i [BEAT] i [BEAT] ai ei [BEAT] en en ou [BEAT] ] ie [BEAT] e [BEAT] ong [BEAT] en [BEAT] [SEP] ai [BEAT] er [BEAT] ao [BEAT] an [BEAT] i [BEAT] ei [BEAT] in [BEAT] i an [BEAT] a [BEAT] ang [BEAT] i [BEAT] ei [BEAT] o [BEAT] [SEP] ong ao [BEAT] i [BEAT] u [BEAT] en [BEAT] o [SEP] ong ong [ BEAT] en [BEAT] ai [BEAT] [SEP] ai [BEAT] i ong [BEAT] en [BEAT] [SEP] ai [BEAT] o an ong an [BEAT] ao [BEAT] ong i [SEP] ang [BEAT] ei [BEAT] u [BEAT] u [BEAT] i [BEAT] i [BEAT] iu [BEAT] e [BEAT] ou [BEAT] en [BEAT] a [BEAT] u [BEAT] [SEP] ang [BEAT] i [BEAT] i [BEAT] in [BEAT] e [BEAT] ai [BEAT] i [BEAT] en [BEAT] i [BEAT] i [BEAT] in [BEAT] e [BEAT] ai [ BEAT] i [BEAT]i [BEAT] [SEP] ie [BEAT] ii [BEAT] ei [BEAT] i [BEAT] an i ang ou [BEAT] in [SEP] an [BEAT] o [BEAT] io [BEAT] i [BEAT] i [BEAT] i [BEAT] ong in [BEAT] ei [SEP] ang [BEAT] ee [BEAT] o [BEAT] ei ei [BEAT] ai [BEAT] ou [BEAT] ang [BEAT] an [BEAT] [SEP] ong an ii [BEAT] ou [BEAT] i [BEAT] i [BEAT] u [BEAT] ao [BEAT] e [BEAT] [SEP] en ​​[BEAT] ang [BEAT] ong ou an [BEAT] uo [BEAT] en [BEAT] ao [BEAT] i [SEP] u [BEAT] in e [BEAT] ai i [BEAT] ai [BEAT] i en [BEAT] en [BEAT] o [SEP]', ' sentence': '0 0 0 0 0 0 0 0 0 1 1 1 1 1 1 1 2 2 2 2 2 2 2 2 2 2 2 2 2 2 2 2 2 2 2 2 2 2 3 3 3 3 3 3 3 3 3 3 3 3 3 3 3 3 3 3 3 3 3 3 3 3 4 4 4 4 4 4 4 4 4 4 4 4 4 4 4 4 4 4 4 4 4 4 4 4 4 4 4 4 5 5 5 5 5 5 5 5 5 5 5 6 6 6 6 6 6 6 6 7 7 7 7 7 7 7 7 8 8 8 8 8 8 8 8 8 8 8 8 9 9 9 9 9 9 9 9 9 9 9 9 9 9 9 9 9 9 9 9 9 9 9 9 9 10 10 10 10 10 10 10 10 10 10 10 10 10 10 10 10 10 10 10 10 10 10 10 10 10 10 10 10 10 10 10 11 11 11 11 11 1 1 1 11 1 1 1 1 1 1 1 11 1 11 11 12 12 12 12 12 12 12 12 12 12 12 12 12 12 12 12 13 13 13 13 13 13 13 13 13 13 13 13 13 13 13 14 14 14 14 14 14 14 14 14 14 relative position[BEAT] 0 [BEAT] 1 [BEAT] 2 [BEAT] 3 [SEP] 0 1 [BEAT] 2 [BEAT] 3 [SEP] [BEAT] 0 [BEAT] 1 [BEAT] 2 [BEAT] 3 [BEAT] ] 4 5 6 [BEAT] 7 [BEAT] 8 9 [BEAT] 10 [BEAT] 11 [SEP] [BEAT] 0 [BEAT] 1 [BEAT] 2 [BEAT] 3 [BEAT] 4 5 6 [BEAT] 7 8 [BEAT] 9 [BEAT] 10 [BEAT] 11 [BEAT] 12 [SEP] [BEAT] 0 [BEAT] 1 [BEAT] 2 [BEAT] 3 [BEAT] 4 [BEAT] 5 6 [BEAT] 7 [ BEAT] 8 [BEAT] 9 [BEAT] 10 [BEAT] 11 [BEAT] 12 [BEAT] 13 [SEP] 0 [BEAT] 1 [BEAT] 2 [BEAT] 3 [BEAT] 4 5 [SEP] [BEAT] 0 [BEAT] 1 [BEAT] 2 3 [SEP] [BEAT] 0 [BEAT] 1 2 [BEAT] 3 [SEP] 0 1 [BEAT] 2 [BEAT] 3 4 5 6 [BEAT] 7 [SEP] [ BEAT] 0 [BEAT] 1 [BEAT] 2 [BEAT] 3 [BEAT] 4 [BEAT] 5 6 [BEAT] 7 [BEAT] 8 [BEAT] 9 [BEAT] 10 [BEAT] 11 [BEAT] 12 [SEP ] [BEAT] 0 [BEAT] 1 [BEAT] 2 [BEAT] 3 [BEAT] 4 [BEAT] 5 [BEAT] 6 [BEAT] 7 [BEAT] 8 [BEAT] 9 [BEAT] 10 [BEAT] 11 [ BEAT] 12 [BEAT] 13 [BEAT] 14 [SEP] 0 [BEAT] 1 2 3 4 [BEAT] 5 [BEAT] 6[BEAT] 7 8 [BEAT] 9 [SEP] 0 [BEAT] 1 2 [BEAT] 3 [BEAT] 4 [BEAT] 5 [BEAT] 6 7 [BEAT] 8 [BEAT] 9 [SEP] [BEAT] 0 [BEAT] 1 [BEAT] 2 [BEAT] 3 [BEAT] 4 5 [BEAT] 6 [BEAT] 7 8 [BEAT] 9 [SEP] [BEAT] 0 [BEAT] 1 [BEAT] 2 [BEAT] 3 [ BEAT] 4 [BEAT] 5 [BEAT] 6 7 8 9 [SEP] 0 [BEAT] 1 [BEAT] 2 [BEAT] 3 4 [BEAT] 5 6 7 [BEAT] 8 [BEAT] 9 [SEP] 0 [ BEAT] 1 [BEAT] 2 3 [BEAT] 4 [BEAT] 5 6 [BEAT] 7 8 [BEAT] 9 [SEP]', 'Reverse relative position': '0 [BEAT] 1 [BEAT] 2 [BEAT] 3 [BEAT] [SEP] 0 [BEAT] 1 [BEAT] 2 3 [SEP] 0 [BEAT] 1 [BEAT] 2 3 [BEAT] 4 [BEAT] 5 6 7 [BEAT] 8 [BEAT] 9 [BEAT] 10 [BEAT] 11 [BEAT] [SEP] 0 [BEAT] 1 [BEAT] 2 [BEAT] 3 [BEAT] 4 5 [BEAT] 6 7 8 [BEAT] ] 9 [BEAT] 10 [BEAT] 11 [BEAT] 12 [BEAT] [SEP] 0 [BEAT] 1 [BEAT] 2 [BEAT] 3 [BEAT] 4 [BEAT] 5 [BEAT] 6 [BEAT] 7 8 [BEAT] 9 [BEAT] 10 [BEAT] 11 [BEAT] 12 [BEAT] 13 [BEAT] [SEP] 0 1 [BEAT] 2 [BEAT] 3 [BEAT] 4 [BEAT] 5 [SEP] 0 1 [ BEAT] 2 [BEAT] 3 [BEAT] [SEP] 0 [BEAT] 1 2 [BEAT] 3 [BEAT] [SEP] 0 [BEAT] 1 2 3 4 [BEAT] 5 [BEAT] 6 7 [SEP] 0 [BEAT] 1 [BEAT] 2 [BEAT] 3 [BEAT] 4 [BEAT] 5 [BEAT] 6 7 [BEAT] 8 [BEAT] 9 [BEAT] 10 [BEAT] 11 [BEAT] 12 [BEAT] [SEP ] 0 [BEAT] 1 [BEAT] 2 [BEAT] 3 [BEAT] 4 [BEAT] 5 [BEAT] 6 [BEAT] 7 [BEAT] 8 [BEAT] 9 [BEAT] 10 [BEAT] 11 [BEAT] 12 [BEAT] 13 [BEAT] 14 [BEAT] [SEP] 0 [BEAT] 1 2 [BEAT] 3 [BEAT] 4[BEAT] 5 6 7 8 [BEAT] 9 [SEP] 0 [BEAT] 1 [BEAT] 2 3 [BEAT] 4 [BEAT] 5 [BEAT] 6 [BEAT] 7 8 [BEAT] 9 [SEP] 0 [ BEAT] 1 2 [BEAT] 3 [BEAT] 4 5 [BEAT] 6 [BEAT] 7 [BEAT] 8 [BEAT] 9 [BEAT] [SEP] 0 1 2 3 [BEAT] 4 [BEAT] 5 [BEAT] 6 [BEAT] 7 [BEAT] 8 [BEAT] 9 [BEAT] [SEP] 0 [BEAT] 1 [BEAT] 2 3 4 [BEAT] 5 6 [BEAT] 7 [BEAT] 8 [BEAT] 9 [SEP] 0 [BEAT] 1 2 [BEAT] 3 4 [BEAT] 5 [BEAT] 6 7 [BEAT] 8 [BEAT] 9 [SEP]', 'Drumbeat': '1 0 2 0 3 0 4 0 0 0 0 5 0 6 0 0 7 0 8 0 9 0 10 0 11 0 0 0 12 0 13 0 0 14 0 15 0 0 16 0 17 0 18 0 19 0 20 0 0 0 21 0 0 22 0 23 0 24 0 25 0 0 26 0 27 0 28 0 29 0 30 0 31 0 0 32 0 33 0 34 0 35 0 36 0 37 0 38 0 0 0 39 0 40 0 ​​41 0 42 0 0 0 43 0 44 0 45 0 0 0 46 0 47 0 0 48 0 0 0 0 49 0 50 0 0 0 0 51 0 0 52 0 53 0 54 0 55 0 56 0 57 0 0 58 0 59 0 60 0 61 0 62 0 63 0 0 64 0 65 0 66 0 67 0 68 0 69 0 70 0 71 0 72 0 73 0 74 0 75 0 76 0 77 0 78 0 0 0 79 0 0 0 0 80 0 81 0 82 0 0 83 0 0 0 84 0 0 85 0 86 0 87 0 88 0 0 89 0 90 0 0 91 0 92 0 93 0 94 0 95 0 0 96 0 97 0 0 98 0 0 99 0 100 0 101 0 102 0 103 0 104 0 105 0 0 0 0 0 0 106 0 107 0 108 0 0 109 0 0 0 110 0 111 0 0 0 112 0 113 0 0 114 0 115 0 0 116 0 0 117 0 0', 'Drum reverse': '0 1 0 2 0 3 0 4 0 0 5 0 6 0 0 0 0 7 0 8 0 0 9 0 10 0 0 0 11 0 12 0 13 0 14 0 15 0 0 16 0 17 0 18 0 19 0 0 20 0 0 0 21 0 22 0 23 0 24 0 25 0 0 26 0 27 0 28 0 29 0 30 0 31 0 32 0 0 33 0 34 0 35 0 36 0 37 0 38 0 0 0 39 0 40 0 ​​41 0 42 0 0 0 0 43 0 44 0 45 0 0 46 0 0 47 0 48 0 0 49 0 0 0 0 50 0 51 0 0 0 0 52 0 53 0 54 0 55 0 56 0 57 0 0 58 0 59 0 60 0 61 0 62 0 63 0 0 64 0 65 0 66 0 67 0 68 0 69 0 70 0 71 0 72 0 73 0 74 0 75 0 76 0 77 0 78 0 0 79 0 0 80 0 81 0 82 0 0 0 83 0 0 0 84 0 85 0 0 86 0 87 0 88 0 89 0 0 90 0 0 0 91 0 0 92 0 93 0 0 94 0 95 0 96 0 97 0 98 0 0 0 0 0 99 0 100 0 101 0 102 0 103 0 104 0 105 0 0 106 0 107 0 0 0 108 0 0 109 0 110 0 111 0 0 0 112 0 0 113 0 0 114 0 115 0 0 116 0 117 0 0', 'valid': True} \""
   ]
  },
  {
   "cell_type": "markdown",
   "metadata": {},
   "source": [
    "#### processing `deeprapper_dict`"
   ]
  },
  {
   "cell_type": "code",
   "execution_count": 3,
   "metadata": {},
   "outputs": [],
   "source": [
    "key_item = []\n",
    "split = one_song.split(\":\")\n",
    "for i in range(1, len(split)):\n",
    "\n",
    "    if i == 1:\n",
    "        key = split[i - 1].split(\"', \")[0]\n",
    "        item = split[i].split(\"', \")[0]\n",
    "    else:\n",
    "        key = split[i - 1].split(\"', \")[1]\n",
    "        item = split[i].split(\"', \")[0]\n",
    "\n",
    "        if \"relative position\" in item:\n",
    "            concat = key + item\n",
    "            two = concat.split(\"relative position\")\n",
    "            sentence = two[0]\n",
    "            rel = two[1]\n",
    "            rel = \"'relative position' '\" + rel\n",
    "\n",
    "            key_item.append(sentence)\n",
    "            key_item.append(rel)\n",
    "            pass\n",
    "        \n",
    "    key_item.append(key + item)\n",
    "\n",
    "deeprapper_dict = {}\n",
    "for elm in key_item:\n",
    "    split = elm.split(\"'\")\n",
    "\n",
    "    if len(split) == 3:\n",
    "        deeprapper_dict[str(split[1])] =  split[2]\n",
    "    else:\n",
    "        deeprapper_dict[str(split[1])] =  split[3]"
   ]
  },
  {
   "cell_type": "code",
   "execution_count": 4,
   "metadata": {},
   "outputs": [
    {
     "data": {
      "text/plain": [
       "{'Singer': 'rap_Kung Fu Fat KungFuPen',\n",
       " 'Album': 'Light Up Live Action LIVE Compilation',\n",
       " 'Song Title': 'Be Like Flame (Light Up Live Version))',\n",
       " 'Song': '[BEAT] In [BEAT] whirl [BEAT] whirl [BEAT] [SEP] whirl [BEAT] outside [BEAT] [SEP] [BEAT] fan [BEAT] lost [BEAT] [BEAT] when [BEAT] [BEAT] Empty was born [BEAT] The net of life [BEAT] [BEAT] covered [BEAT] covered [SEP] [BEAT] The [BEAT] of [BEAT] in the dream [BEAT] [BEAT] wild [BEAT] beast is sinking [BEAT] sleeping in [BEAT] remember [BEAT] remember [BEAT] deep [BEAT] place [SEP] [BEAT] where [BEAT] says [BEAT] reason [BEAT] think [BEAT] home [BEAT] garden only [BEAT] because of [BEAT] ] For [BEAT] you [BEAT] far [BEAT] way [BEAT] and [BEAT] come [SEP] I [BEAT] we [BEAT] do not [BEAT] need [BEAT] to understand [SEP] [BEAT] in [BEAT] It hurts [BEAT] It hurts [SEP] [BEAT] It hurts [BEAT] It hurts [BEAT] outside [SEP] You saw [BEAT] from [BEAT] smoke [BEAT] to [SEP] [BEAT] ] No [BEAT] method [BEAT] forbearance [BEAT] subject to [BEAT] [BEAT] not only [BEAT] is [BEAT] one [BEAT] step [BEAT] step [BEAT] back [BEAT] let [SEP][ BEAT] is [BEAT] with [BEAT] love [BEAT] with [BEAT] name [BEAT] meaning [BEAT] sacrifice [BEAT] sacrifice [BEAT] with [BEAT] love [BEAT] with [BEAT] name [BEAT] Righteousness [BEAT] left [BEAT] forget [SEP] heart [BEAT] there is a long bank thousand [BEAT] [BEAT] collapse [BEAT] in the ant [BEAT] hole [SEP] ash [BEAT] ash [BEAT] yes [BEAT] You [BEAT] are [BEAT] I am [BEAT] Yesterday [BEAT] day [SEP] [BEAT] day [BEAT] hall [BEAT] [BEAT] destroyed [BEAT] in [BEAT] once [BEAT] ] place [BEAT] square [SEP] [BEAT] this [BEAT] bar [BEAT] road [BEAT] from [BEAT] to [BEAT] to walk [BEAT] to move [SEP] straight [BEAT] to [BEAT] raw [BEAT] live out [BEAT] and show some kind of [BEAT] like [BEAT] sign [SEP] strangers [BEAT] born [BEAT] people you [BEAT] when you come to [BEAT] bring [BEAT] letter [BEAT] things [SEP] ]',\n",
       " 'Song reverse': 'In the [BEAT] vortex [BEAT] whirl [BEAT] outside the [BEAT] [SEP] [BEAT] whirlpool [SEP] cover [BEAT] cover [BEAT] net [BEAT] life [BEAT] life When being empty [BEAT] [BEAT] at [BEAT] lost [BEAT] fan [BEAT] [SEP] [BEAT] deep [BEAT] memory [BEAT] remember [BEAT] sleeping [BEAT] Shen Zheng beast [BEAT] ] Wild [BEAT] in [BEAT] in [BEAT] dream [BEAT] [SEP] to [BEAT] and [BEAT] way [BEAT] far [BEAT] you [BEAT] for [BEAT] because of [BEAT] Gion [BEAT] My family [BEAT] wants to [BEAT] and [BEAT] means [BEAT] what [BEAT] [SEP] knows [BEAT] needs [BEAT] does not [BEAT] you [BEAT] I [SEP] are in pain[ BEAT] pain [BEAT] outside [BEAT] [SEP] [BEAT] pain [BEAT] pain [BEAT] [SEP] to [BEAT] after fancy smoke [BEAT] nitrate [BEAT] from you [SEP] let [BEAT] step back [BEAT] step [BEAT] step [BEAT] one [BEAT] is [BEAT] only not [BEAT] of [BEAT] subject to [BEAT] endure [BEAT] method [BEAT] no [BEAT] [SEP ] Forget [BEAT] bequeath [BEAT] meaning [BEAT] name [BEAT] [BEAT] love [BEAT] sacrifice [BEAT] sacrifice [BEAT] meaning [BEAT] name [BEAT] [BEAT] love [BEAT] With [BEAT] it is [BEAT] [SEP] cave [BEAT] ants in [BEAT] collapse [BEAT] [BEAT] Qiandichang has [BEAT] heart [SEP] days [BEAT] Yesterday [BEAT] It',\n",
       " 'finals': '[BEAT] ai [BEAT] an [BEAT] o [BEAT] ong [SEP] an o [BEAT] i [BEAT] ai [SEP] [BEAT] i [BEAT] i [BEAT] ai [BEAT] i [BEAT] ] ong ei en [BEAT] in [BEAT] i ang [BEAT] u [BEAT] ai [SEP] [BEAT] en [BEAT] ong [BEAT] e [BEAT] ie [BEAT] ou en en [BEAT] ei ai [BEAT] i [BEAT] i [BEAT] en [BEAT] u [SEP] [BEAT] o [BEAT] ei [BEAT] i [BEAT] ang [BEAT] a [BEAT] an i [BEAT] in [ BEAT] ei [BEAT] i [BEAT] an [BEAT] ao [BEAT] er [BEAT] ai [SEP] o [BEAT] en [BEAT] u [BEAT] i [BEAT] ao ong [SEP] [BEAT] ai [BEAT] en [BEAT] ong ong [SEP] [BEAT] en [BEAT] ong i [BEAT] ai [SEP] i ong [BEAT] ao [BEAT] an ong an o [BEAT] ai [SEP] [ BEAT] u [BEAT] a [BEAT] en [BEAT] ou [BEAT] e [BEAT] ui [BEAT] i [BEAT] i [BEAT] u [BEAT] u [BEAT] ei [BEAT] ang [SEP] [BEAT] i [BEAT] i [BEAT] ai [BEAT] e [BEAT] in [BEAT] i [BEAT] i [BEAT] en [BEAT] i [BEAT] ai [BEAT] e [BEAT] in [BEAT] ] i [BEAT] i[BEAT] ang [SEP] in [BEAT] ou ang i an [BEAT] i [BEAT] ei [BEAT] ii [BEAT] ie [SEP] ei [BEAT] in ong [BEAT] i [BEAT] i [BEAT] ] i [BEAT] oi [BEAT] o [BEAT] an [SEP] [BEAT] an [BEAT] ang [BEAT] ou [BEAT] ai [BEAT] ei ei [BEAT] o [BEAT] ee [BEAT] ang [SEP] [BEAT] e [BEAT] ao [BEAT] u [BEAT] i [BEAT] i [BEAT] ou [BEAT] ii an ong [SEP] i [BEAT] ao [BEAT] en [BEAT] ou [ BEAT] an ou ong [BEAT] ang [BEAT] en [SEP] o [BEAT] en [BEAT] en i [BEAT] ai [BEAT] i ai [BEAT] e in [BEAT] u [SEP]',\n",
       " ' Reverse finals': 'ong [BEAT] o [BEAT] an [BEAT] ai [BEAT] [SEP] ai [BEAT] i [BEAT] o an [SEP] ai [BEAT] u [BEAT] ang i [BEAT] in [BEAT] en ei ong [BEAT] i [BEAT] ai [BEAT] i [BEAT] i [BEAT] [SEP] u [BEAT] en [BEAT] i [BEAT] i [BEAT] ai ei [BEAT] en en ou [BEAT] ] ie [BEAT] e [BEAT] ong [BEAT] en [BEAT] [SEP] ai [BEAT] er [BEAT] ao [BEAT] an [BEAT] i [BEAT] ei [BEAT] in [BEAT] i an [BEAT] a [BEAT] ang [BEAT] i [BEAT] ei [BEAT] o [BEAT] [SEP] ong ao [BEAT] i [BEAT] u [BEAT] en [BEAT] o [SEP] ong ong [ BEAT] en [BEAT] ai [BEAT] [SEP] ai [BEAT] i ong [BEAT] en [BEAT] [SEP] ai [BEAT] o an ong an [BEAT] ao [BEAT] ong i [SEP] ang [BEAT] ei [BEAT] u [BEAT] u [BEAT] i [BEAT] i [BEAT] iu [BEAT] e [BEAT] ou [BEAT] en [BEAT] a [BEAT] u [BEAT] [SEP] ang [BEAT] i [BEAT] i [BEAT] in [BEAT] e [BEAT] ai [BEAT] i [BEAT] en [BEAT] i [BEAT] i [BEAT] in [BEAT] e [BEAT] ai [ BEAT] i [BEAT]i [BEAT] [SEP] ie [BEAT] ii [BEAT] ei [BEAT] i [BEAT] an i ang ou [BEAT] in [SEP] an [BEAT] o [BEAT] io [BEAT] i [BEAT] i [BEAT] i [BEAT] ong in [BEAT] ei [SEP] ang [BEAT] ee [BEAT] o [BEAT] ei ei [BEAT] ai [BEAT] ou [BEAT] ang [BEAT] an [BEAT] [SEP] ong an ii [BEAT] ou [BEAT] i [BEAT] i [BEAT] u [BEAT] ao [BEAT] e [BEAT] [SEP] en \\u200b\\u200b[BEAT] ang [BEAT] ong ou an [BEAT] uo [BEAT] en [BEAT] ao [BEAT] i [SEP] u [BEAT] in e [BEAT] ai i [BEAT] ai [BEAT] i en [BEAT] en [BEAT] o [SEP]',\n",
       " ' sentence': '0 0 0 0 0 0 0 0 0 1 1 1 1 1 1 1 2 2 2 2 2 2 2 2 2 2 2 2 2 2 2 2 2 2 2 2 2 2 3 3 3 3 3 3 3 3 3 3 3 3 3 3 3 3 3 3 3 3 3 3 3 3 4 4 4 4 4 4 4 4 4 4 4 4 4 4 4 4 4 4 4 4 4 4 4 4 4 4 4 4 5 5 5 5 5 5 5 5 5 5 5 6 6 6 6 6 6 6 6 7 7 7 7 7 7 7 7 8 8 8 8 8 8 8 8 8 8 8 8 9 9 9 9 9 9 9 9 9 9 9 9 9 9 9 9 9 9 9 9 9 9 9 9 9 10 10 10 10 10 10 10 10 10 10 10 10 10 10 10 10 10 10 10 10 10 10 10 10 10 10 10 10 10 10 10 11 11 11 11 11 1 1 1 11 1 1 1 1 1 1 1 11 1 11 11 12 12 12 12 12 12 12 12 12 12 12 12 12 12 12 12 13 13 13 13 13 13 13 13 13 13 13 13 13 13 13 14 14 14 14 14 14 14 14 14 14 relative position[BEAT] 0 [BEAT] 1 [BEAT] 2 [BEAT] 3 [SEP] 0 1 [BEAT] 2 [BEAT] 3 [SEP] [BEAT] 0 [BEAT] 1 [BEAT] 2 [BEAT] 3 [BEAT] ] 4 5 6 [BEAT] 7 [BEAT] 8 9 [BEAT] 10 [BEAT] 11 [SEP] [BEAT] 0 [BEAT] 1 [BEAT] 2 [BEAT] 3 [BEAT] 4 5 6 [BEAT] 7 8 [BEAT] 9 [BEAT] 10 [BEAT] 11 [BEAT] 12 [SEP] [BEAT] 0 [BEAT] 1 [BEAT] 2 [BEAT] 3 [BEAT] 4 [BEAT] 5 6 [BEAT] 7 [ BEAT] 8 [BEAT] 9 [BEAT] 10 [BEAT] 11 [BEAT] 12 [BEAT] 13 [SEP] 0 [BEAT] 1 [BEAT] 2 [BEAT] 3 [BEAT] 4 5 [SEP] [BEAT] 0 [BEAT] 1 [BEAT] 2 3 [SEP] [BEAT] 0 [BEAT] 1 2 [BEAT] 3 [SEP] 0 1 [BEAT] 2 [BEAT] 3 4 5 6 [BEAT] 7 [SEP] [ BEAT] 0 [BEAT] 1 [BEAT] 2 [BEAT] 3 [BEAT] 4 [BEAT] 5 6 [BEAT] 7 [BEAT] 8 [BEAT] 9 [BEAT] 10 [BEAT] 11 [BEAT] 12 [SEP ] [BEAT] 0 [BEAT] 1 [BEAT] 2 [BEAT] 3 [BEAT] 4 [BEAT] 5 [BEAT] 6 [BEAT] 7 [BEAT] 8 [BEAT] 9 [BEAT] 10 [BEAT] 11 [ BEAT] 12 [BEAT] 13 [BEAT] 14 [SEP] 0 [BEAT] 1 2 3 4 [BEAT] 5 [BEAT] 6[BEAT] 7 8 [BEAT] 9 [SEP] 0 [BEAT] 1 2 [BEAT] 3 [BEAT] 4 [BEAT] 5 [BEAT] 6 7 [BEAT] 8 [BEAT] 9 [SEP] [BEAT] 0 [BEAT] 1 [BEAT] 2 [BEAT] 3 [BEAT] 4 5 [BEAT] 6 [BEAT] 7 8 [BEAT] 9 [SEP] [BEAT] 0 [BEAT] 1 [BEAT] 2 [BEAT] 3 [ BEAT] 4 [BEAT] 5 [BEAT] 6 7 8 9 [SEP] 0 [BEAT] 1 [BEAT] 2 [BEAT] 3 4 [BEAT] 5 6 7 [BEAT] 8 [BEAT] 9 [SEP] 0 [ BEAT] 1 [BEAT] 2 3 [BEAT] 4 [BEAT] 5 6 [BEAT] 7 8 [BEAT] 9 [SEP]',\n",
       " 'relative position': '[BEAT] 0 [BEAT] 1 [BEAT] 2 [BEAT] 3 [SEP] 0 1 [BEAT] 2 [BEAT] 3 [SEP] [BEAT] 0 [BEAT] 1 [BEAT] 2 [BEAT] 3 [BEAT] ] 4 5 6 [BEAT] 7 [BEAT] 8 9 [BEAT] 10 [BEAT] 11 [SEP] [BEAT] 0 [BEAT] 1 [BEAT] 2 [BEAT] 3 [BEAT] 4 5 6 [BEAT] 7 8 [BEAT] 9 [BEAT] 10 [BEAT] 11 [BEAT] 12 [SEP] [BEAT] 0 [BEAT] 1 [BEAT] 2 [BEAT] 3 [BEAT] 4 [BEAT] 5 6 [BEAT] 7 [ BEAT] 8 [BEAT] 9 [BEAT] 10 [BEAT] 11 [BEAT] 12 [BEAT] 13 [SEP] 0 [BEAT] 1 [BEAT] 2 [BEAT] 3 [BEAT] 4 5 [SEP] [BEAT] 0 [BEAT] 1 [BEAT] 2 3 [SEP] [BEAT] 0 [BEAT] 1 2 [BEAT] 3 [SEP] 0 1 [BEAT] 2 [BEAT] 3 4 5 6 [BEAT] 7 [SEP] [ BEAT] 0 [BEAT] 1 [BEAT] 2 [BEAT] 3 [BEAT] 4 [BEAT] 5 6 [BEAT] 7 [BEAT] 8 [BEAT] 9 [BEAT] 10 [BEAT] 11 [BEAT] 12 [SEP ] [BEAT] 0 [BEAT] 1 [BEAT] 2 [BEAT] 3 [BEAT] 4 [BEAT] 5 [BEAT] 6 [BEAT] 7 [BEAT] 8 [BEAT] 9 [BEAT] 10 [BEAT] 11 [ BEAT] 12 [BEAT] 13 [BEAT] 14 [SEP] 0 [BEAT] 1 2 3 4 [BEAT] 5 [BEAT] 6[BEAT] 7 8 [BEAT] 9 [SEP] 0 [BEAT] 1 2 [BEAT] 3 [BEAT] 4 [BEAT] 5 [BEAT] 6 7 [BEAT] 8 [BEAT] 9 [SEP] [BEAT] 0 [BEAT] 1 [BEAT] 2 [BEAT] 3 [BEAT] 4 5 [BEAT] 6 [BEAT] 7 8 [BEAT] 9 [SEP] [BEAT] 0 [BEAT] 1 [BEAT] 2 [BEAT] 3 [ BEAT] 4 [BEAT] 5 [BEAT] 6 7 8 9 [SEP] 0 [BEAT] 1 [BEAT] 2 [BEAT] 3 4 [BEAT] 5 6 7 [BEAT] 8 [BEAT] 9 [SEP] 0 [ BEAT] 1 [BEAT] 2 3 [BEAT] 4 [BEAT] 5 6 [BEAT] 7 8 [BEAT] 9 [SEP]',\n",
       " 'Reverse relative position': '0 [BEAT] 1 [BEAT] 2 [BEAT] 3 [BEAT] [SEP] 0 [BEAT] 1 [BEAT] 2 3 [SEP] 0 [BEAT] 1 [BEAT] 2 3 [BEAT] 4 [BEAT] 5 6 7 [BEAT] 8 [BEAT] 9 [BEAT] 10 [BEAT] 11 [BEAT] [SEP] 0 [BEAT] 1 [BEAT] 2 [BEAT] 3 [BEAT] 4 5 [BEAT] 6 7 8 [BEAT] ] 9 [BEAT] 10 [BEAT] 11 [BEAT] 12 [BEAT] [SEP] 0 [BEAT] 1 [BEAT] 2 [BEAT] 3 [BEAT] 4 [BEAT] 5 [BEAT] 6 [BEAT] 7 8 [BEAT] 9 [BEAT] 10 [BEAT] 11 [BEAT] 12 [BEAT] 13 [BEAT] [SEP] 0 1 [BEAT] 2 [BEAT] 3 [BEAT] 4 [BEAT] 5 [SEP] 0 1 [ BEAT] 2 [BEAT] 3 [BEAT] [SEP] 0 [BEAT] 1 2 [BEAT] 3 [BEAT] [SEP] 0 [BEAT] 1 2 3 4 [BEAT] 5 [BEAT] 6 7 [SEP] 0 [BEAT] 1 [BEAT] 2 [BEAT] 3 [BEAT] 4 [BEAT] 5 [BEAT] 6 7 [BEAT] 8 [BEAT] 9 [BEAT] 10 [BEAT] 11 [BEAT] 12 [BEAT] [SEP ] 0 [BEAT] 1 [BEAT] 2 [BEAT] 3 [BEAT] 4 [BEAT] 5 [BEAT] 6 [BEAT] 7 [BEAT] 8 [BEAT] 9 [BEAT] 10 [BEAT] 11 [BEAT] 12 [BEAT] 13 [BEAT] 14 [BEAT] [SEP] 0 [BEAT] 1 2 [BEAT] 3 [BEAT] 4[BEAT] 5 6 7 8 [BEAT] 9 [SEP] 0 [BEAT] 1 [BEAT] 2 3 [BEAT] 4 [BEAT] 5 [BEAT] 6 [BEAT] 7 8 [BEAT] 9 [SEP] 0 [ BEAT] 1 2 [BEAT] 3 [BEAT] 4 5 [BEAT] 6 [BEAT] 7 [BEAT] 8 [BEAT] 9 [BEAT] [SEP] 0 1 2 3 [BEAT] 4 [BEAT] 5 [BEAT] 6 [BEAT] 7 [BEAT] 8 [BEAT] 9 [BEAT] [SEP] 0 [BEAT] 1 [BEAT] 2 3 4 [BEAT] 5 6 [BEAT] 7 [BEAT] 8 [BEAT] 9 [SEP] 0 [BEAT] 1 2 [BEAT] 3 4 [BEAT] 5 [BEAT] 6 7 [BEAT] 8 [BEAT] 9 [SEP]',\n",
       " 'Drumbeat': '1 0 2 0 3 0 4 0 0 0 0 5 0 6 0 0 7 0 8 0 9 0 10 0 11 0 0 0 12 0 13 0 0 14 0 15 0 0 16 0 17 0 18 0 19 0 20 0 0 0 21 0 0 22 0 23 0 24 0 25 0 0 26 0 27 0 28 0 29 0 30 0 31 0 0 32 0 33 0 34 0 35 0 36 0 37 0 38 0 0 0 39 0 40 0 \\u200b\\u200b41 0 42 0 0 0 43 0 44 0 45 0 0 0 46 0 47 0 0 48 0 0 0 0 49 0 50 0 0 0 0 51 0 0 52 0 53 0 54 0 55 0 56 0 57 0 0 58 0 59 0 60 0 61 0 62 0 63 0 0 64 0 65 0 66 0 67 0 68 0 69 0 70 0 71 0 72 0 73 0 74 0 75 0 76 0 77 0 78 0 0 0 79 0 0 0 0 80 0 81 0 82 0 0 83 0 0 0 84 0 0 85 0 86 0 87 0 88 0 0 89 0 90 0 0 91 0 92 0 93 0 94 0 95 0 0 96 0 97 0 0 98 0 0 99 0 100 0 101 0 102 0 103 0 104 0 105 0 0 0 0 0 0 106 0 107 0 108 0 0 109 0 0 0 110 0 111 0 0 0 112 0 113 0 0 114 0 115 0 0 116 0 0 117 0 0',\n",
       " 'Drum reverse': '0 1 0 2 0 3 0 4 0 0 5 0 6 0 0 0 0 7 0 8 0 0 9 0 10 0 0 0 11 0 12 0 13 0 14 0 15 0 0 16 0 17 0 18 0 19 0 0 20 0 0 0 21 0 22 0 23 0 24 0 25 0 0 26 0 27 0 28 0 29 0 30 0 31 0 32 0 0 33 0 34 0 35 0 36 0 37 0 38 0 0 0 39 0 40 0 \\u200b\\u200b41 0 42 0 0 0 0 43 0 44 0 45 0 0 46 0 0 47 0 48 0 0 49 0 0 0 0 50 0 51 0 0 0 0 52 0 53 0 54 0 55 0 56 0 57 0 0 58 0 59 0 60 0 61 0 62 0 63 0 0 64 0 65 0 66 0 67 0 68 0 69 0 70 0 71 0 72 0 73 0 74 0 75 0 76 0 77 0 78 0 0 79 0 0 80 0 81 0 82 0 0 0 83 0 0 0 84 0 85 0 0 86 0 87 0 88 0 89 0 0 90 0 0 0 91 0 0 92 0 93 0 0 94 0 95 0 96 0 97 0 98 0 0 0 0 0 99 0 100 0 101 0 102 0 103 0 104 0 105 0 0 106 0 107 0 0 0 108 0 0 109 0 110 0 111 0 0 0 112 0 0 113 0 0 114 0 115 0 0 116 0 117 0 0',\n",
       " 'valid': ' True} '}"
      ]
     },
     "execution_count": 4,
     "metadata": {},
     "output_type": "execute_result"
    }
   ],
   "source": [
    "deeprapper_dict"
   ]
  },
  {
   "cell_type": "markdown",
   "metadata": {},
   "source": [
    "# ⭐️ Pulling in lyrics data from MCFlow\n",
    "\n",
    "The final dictionary for the English cleaned data is `mc_processed_dict`.\n",
    "\n",
    "Its keys are `['recip', 'stress', 'tone', 'break', 'rhyme', 'ipa', 'lyrics', 'hype', 'sentence', 'song', 'artist']` and follow the same structure as [the MCFlow columns](https://github.com/Computational-Cognitive-Musicology-Lab/MCFlow/blob/master/Humdrum/LaurynHill_DooWopThatThing.rap). For more documentation on the columns, check the [MCFlow README](https://github.com/Computational-Cognitive-Musicology-Lab/MCFlow/blob/master/Humdrum/README.md).\n",
    "\n",
    "<br />\n",
    "\n",
    "Some considerations....\n",
    "- We added the `sentence` column. It follows the same structure as `deeprapper_dict[sentence]`\n",
    "- In DeepRapper's `deeprapper_dict`, keys map to strings. ➡️ In our `mc_processed_dict`, keys map to lists.\n",
    "\n",
    "<br />\n",
    "<br />\n"
   ]
  },
  {
   "cell_type": "code",
   "execution_count": 5,
   "metadata": {},
   "outputs": [],
   "source": [
    "directory = './MCFlow-master/Humdrum'\n",
    "files=[]\n",
    "songTitles=[]\n",
    "artists=[]\n",
    "for filename in os.listdir(directory):\n",
    "    f = os.path.join(directory, filename)\n",
    "    # checking if it is a file\n",
    "    if os.path.isfile(f):\n",
    "        extension=f.split('/')[-1].split('_')\n",
    "        if len(extension)>1:\n",
    "            artists.append(extension[0])\n",
    "            songTitles.append(extension[1].split('.')[0])\n",
    "            files.append(f)"
   ]
  },
  {
   "cell_type": "code",
   "execution_count": 6,
   "metadata": {},
   "outputs": [],
   "source": [
    "def pad(line):\n",
    "    while len(line)!=8:\n",
    "        line.append('.')\n",
    "    return line\n",
    "\n",
    "def encodeSong(songFile):   \n",
    "    with open(songFile) as f:\n",
    "        lines = f.readlines()\n",
    "    col_names = [col[:-1] for col in lines[0].split(\"**\")[1:]]\n",
    "    col_names.append(\"pos\")\n",
    "    col_names.append('beat')\n",
    "    col_names.append('sentence')\n",
    "    \n",
    "    # print('Col names length', col_names)\n",
    "\n",
    "    processed=[]\n",
    "    count=0\n",
    "    rel = 0\n",
    "    beat=0\n",
    "    for i in range(5,len(lines)):\n",
    "        line = lines[i].split('\\t')\n",
    "\n",
    "        # add rel line pos\n",
    "        line.append(rel)\n",
    "        \n",
    "        # add beats to lyrics, rhymes, relative position\n",
    "        if line[1] == str(1):\n",
    "            line[6] = \"[BEAT] \" + line[6] # lyrics\n",
    "            line[5] = \"[BEAT] \" + line[5] #rhyme\n",
    "            line[8] = \"[BEAT] \" + str(line[8]) # rel position\n",
    "\n",
    "        #end of file pass\n",
    "        if line[0] == \"*-\":\n",
    "            break\n",
    "\n",
    "        # skip over bar\n",
    "        if line[0][0]=='=':\n",
    "            continue\n",
    "\n",
    "        rel += 1\n",
    "        # count for sentence \n",
    "        if line[5] == 'R':\n",
    "            rel = 0\n",
    "            count += 1\n",
    "            beat+=1\n",
    "            line.append(beat)\n",
    "        else:\n",
    "            line.append('0')\n",
    "\n",
    "        # add count for sentence\n",
    "        line.append(count)\n",
    "        processed.append(line)\n",
    "        \n",
    "    processed= np.vstack(processed)\n",
    "    mc_processed_dict = {}\n",
    "    for i in range(len(col_names)):\n",
    "        mc_processed_dict[col_names[i]]=processed[:,i]\n",
    "    return mc_processed_dict"
   ]
  },
  {
   "cell_type": "code",
   "execution_count": 7,
   "metadata": {},
   "outputs": [
    {
     "data": {
      "text/plain": [
       "array(['0', '0', '0', '0', '0', '0', '0', '0', '0', '0', '0', '0', '0',\n",
       "       '0', '0', '0', '0', '0', '0', '0', '0', '0', '0', '0', '0', '0',\n",
       "       '0', '0', '0', '1', '0', '0', '0', '0', '0', '0', '2', '0', '0',\n",
       "       '0', '0', '0', '0', '3', '0', '0', '0', '0', '0', '0', '4', '0',\n",
       "       '0', '0', '0', '0', '0', '5', '0', '0', '0', '0', '0', '0', '0',\n",
       "       '0', '0', '0', '0', '0', '6', '0', '0', '0', '0', '0', '0', '7',\n",
       "       '0', '0', '0', '0', '0', '0', '8', '0', '0', '0', '0', '0', '0',\n",
       "       '9', '0', '0', '0', '0', '0', '0', '10', '0', '0', '0', '0', '0',\n",
       "       '0', '0', '0', '0', '0', '0', '0', '0', '0', '11', '0', '0', '0',\n",
       "       '0', '0', '0', '0', '0', '0', '0', '0', '0', '0', '0', '0', '0',\n",
       "       '0', '0', '0', '0', '0', '0', '0', '0', '12', '0', '0', '0', '0',\n",
       "       '0', '0', '0', '0', '0', '0', '0', '0', '0', '0', '0', '0', '0',\n",
       "       '0', '0', '0', '0', '0', '0', '0', '0', '0', '0', '0', '0', '0',\n",
       "       '0', '0', '0', '0', '0', '0', '0', '0', '0', '0', '0', '0', '0',\n",
       "       '0', '0', '0', '0', '0', '0', '0', '13', '0', '0', '0', '0', '0',\n",
       "       '0', '0', '0', '0', '0', '0', '0', '0', '0', '0', '0', '0', '0',\n",
       "       '0', '0', '0', '0', '0', '0', '0', '0', '0', '0', '0', '0', '0',\n",
       "       '0', '0', '0', '0', '0', '0', '0', '0', '0', '0', '0', '0', '0',\n",
       "       '0', '0', '0', '0', '0', '0', '14', '0', '0', '0', '0', '0', '0',\n",
       "       '0', '0', '0', '0', '0', '0', '0', '0', '0', '0', '0', '0', '0',\n",
       "       '0', '0', '0', '0', '0', '15', '0', '0', '0', '0', '0', '0', '0',\n",
       "       '0', '0', '0', '0', '0', '0', '0', '0', '0', '0', '0', '0', '0',\n",
       "       '0', '0', '0', '0', '0', '0', '0', '0', '0', '0', '0', '0', '0',\n",
       "       '0', '0', '0', '0', '0', '0', '0', '0', '0', '0', '0', '0', '0',\n",
       "       '0', '0', '0', '16', '17', '0', '0', '0', '0', '0', '0', '0', '0',\n",
       "       '0', '0', '0', '0', '0', '0', '0', '0', '0', '0', '0', '0', '0',\n",
       "       '0', '0', '0', '0', '0', '0', '0', '0', '0', '18', '0', '0', '0',\n",
       "       '0', '0', '19', '0', '0', '0', '0', '0', '20', '0', '0', '0', '0',\n",
       "       '0', '21', '0', '0', '0', '0', '0', '0', '0', '0', '0', '0', '0',\n",
       "       '0', '0', '0', '0', '0', '0', '0', '0', '0', '0', '0', '0', '0',\n",
       "       '0', '0', '0', '0', '0', '0', '0', '0', '0', '22', '0', '0', '0',\n",
       "       '0', '0', '0', '0', '0', '0', '0', '0', '0', '0', '0', '0', '0',\n",
       "       '0', '0', '0', '0', '0', '0', '0', '0', '0', '0', '0', '0', '0',\n",
       "       '0', '0', '0', '0', '0', '0', '0', '0', '0', '0', '0', '0', '0',\n",
       "       '0', '0', '0', '0', '0', '0', '0', '0', '0', '0', '0', '0', '0',\n",
       "       '0', '0', '0', '0', '0', '0', '0', '0', '0', '0', '0', '0', '0',\n",
       "       '0', '0', '0', '0'], dtype='<U21')"
      ]
     },
     "execution_count": 7,
     "metadata": {},
     "output_type": "execute_result"
    }
   ],
   "source": [
    "song = encodeSong(files[20])\n",
    "song['beat']"
   ]
  },
  {
   "cell_type": "markdown",
   "metadata": {},
   "source": [
    "# ⭐️ Create list of 124 JSON dictionaries of MCFlow dataset\n",
    "`songList` is the list of songs formatted above."
   ]
  },
  {
   "cell_type": "code",
   "execution_count": 8,
   "metadata": {},
   "outputs": [],
   "source": [
    "songList = []\n",
    "for i, songFile in enumerate(files):\n",
    "    dictionary = encodeSong(songFile)\n",
    "    dictionary['title'] = songTitles[i]\n",
    "    dictionary['artist']=artists[i]\n",
    "    songList.append(dictionary)"
   ]
  },
  {
   "cell_type": "code",
   "execution_count": 9,
   "metadata": {},
   "outputs": [
    {
     "data": {
      "text/plain": [
       "dict_keys(['recip', 'stress', 'tone', 'break', 'rhyme', 'ipa', 'lyrics', 'hype', 'pos', 'beat', 'sentence', 'title', 'artist'])"
      ]
     },
     "execution_count": 9,
     "metadata": {},
     "output_type": "execute_result"
    }
   ],
   "source": [
    "songList[0].keys()"
   ]
  },
  {
   "cell_type": "code",
   "execution_count": 10,
   "metadata": {},
   "outputs": [
    {
     "data": {
      "text/plain": [
       "array(['1', '1', '1', '1', '1', '1', '1', '1', '1', '1', '1', '1', '1',\n",
       "       '1', '1', '1', '1', '1', '1', '1', '1', '1', '1', '1', '1', '1',\n",
       "       '1', '1', '1', '1', '1', '1', '1', '1', '1', '1', '2', '2', '2',\n",
       "       '2', '2', '2', '2', '2', '2', '2', '3', '3', '3', '3', '4', '4',\n",
       "       '4', '4', '4', '5', '5', '5', '5', '5', '5', '5', '5', '5', '5',\n",
       "       '5', '6', '6', '6', '6', '6', '6', '6', '6', '6', '6', '6', '6',\n",
       "       '6', '6', '6', '6', '6', '6', '6', '6', '6', '6', '6', '6', '7',\n",
       "       '7', '7', '7', '7', '7', '7', '8', '8', '9', '9', '9', '10', '10',\n",
       "       '10', '11', '11', '11', '11', '11', '11', '11', '12', '12', '12',\n",
       "       '12', '12', '12', '13', '13', '13', '13', '13', '13', '13', '13',\n",
       "       '13', '13', '13', '13', '13', '13', '13', '13', '13', '13', '13',\n",
       "       '13', '13', '13', '14', '14', '14', '14', '14', '14', '14', '14',\n",
       "       '14', '14', '14', '14', '14', '14', '15', '15', '15', '15', '16',\n",
       "       '16', '16', '16', '17', '18', '18', '18', '18', '19', '19', '19',\n",
       "       '19', '20', '20', '20', '21', '21', '21', '21', '21', '21', '21',\n",
       "       '21', '21', '21', '21', '21', '21', '22', '23', '23', '23', '23',\n",
       "       '23', '23', '23', '23', '23', '23', '23', '23', '23', '24', '25',\n",
       "       '25', '25', '25', '25', '25', '25', '25', '25', '25', '25', '26',\n",
       "       '26', '26', '26', '26', '26', '26', '26', '26', '26', '26', '27',\n",
       "       '28', '28', '28', '28', '29', '29', '29', '29', '29', '29', '29',\n",
       "       '30', '30', '30', '30', '30', '30', '30', '30', '30', '30', '31',\n",
       "       '31', '31', '31', '31', '31', '31', '31', '31', '31', '32', '32',\n",
       "       '32', '32', '32', '32', '32', '32', '32', '32', '32', '32', '33',\n",
       "       '33', '33', '33', '33', '33', '33', '33', '33', '33', '33', '34',\n",
       "       '34', '34', '34', '34', '34', '34', '34', '34', '34', '34', '34',\n",
       "       '35', '35', '35', '35', '35', '35', '35', '35', '35', '35', '35',\n",
       "       '35', '35', '35', '35', '35', '35', '35', '35', '35', '35', '35',\n",
       "       '36', '36', '36', '37', '37', '37', '38', '38', '38', '38', '38',\n",
       "       '38', '38', '38', '38', '38', '38', '38', '38', '38', '38', '39',\n",
       "       '39', '39', '39', '39', '39', '39', '39', '39', '39', '39', '39',\n",
       "       '39', '39', '39', '40', '40', '40', '40', '40', '40', '40', '40',\n",
       "       '40', '40', '40', '41', '41', '41', '41', '41', '42', '42', '42',\n",
       "       '42', '42', '42', '42', '43', '43', '43', '43', '43', '43', '43',\n",
       "       '43', '43', '44', '44', '44', '44', '45', '45', '45', '45', '45',\n",
       "       '45', '45', '45', '45', '45', '45', '45', '46', '46', '46', '46',\n",
       "       '46', '46', '46', '46', '46', '46', '47', '48', '48', '48', '48',\n",
       "       '48', '48', '49', '49', '49', '49', '50', '50', '50', '50', '50',\n",
       "       '50', '51', '52', '52', '52', '52', '52', '52', '53', '53', '53',\n",
       "       '53', '54', '54', '55'], dtype='<U21')"
      ]
     },
     "execution_count": 10,
     "metadata": {},
     "output_type": "execute_result"
    }
   ],
   "source": [
    "songList[1]['sentence']"
   ]
  },
  {
   "cell_type": "markdown",
   "metadata": {},
   "source": [
    "# ⭐️ Formatting to match the DeepRapper lyrics.json format\n",
    "\n",
    "```\n",
    "{ \n",
    "    ‘title’: __, \n",
    "    ‘artist”:__, \n",
    "    ‘lyric’: string of all lyrics (full words) should be done by concatenating by ‘-‘ in MC files, \n",
    "    ‘lyric-reverse’: same but in reverse order, \n",
    "    ‘vowel’: last syllable in the word, \n",
    "    ‘vowel-reverse’: same but in reverse order, \n",
    "    ‘sentence’: Indicates the sentence/phrase index that each word/beat/pad is a part of, \n",
    "    ‘pos’: indicates the position in the sentence for each lyric that’s not a [beat] or [pad], \n",
    "    ‘pos-reverse’: same but in reverse, \n",
    "    ‘beat’: 0 when no beat and # in increasing order when there is a beat, \n",
    "    ‘beat-reverse’: same but in reverse\n",
    "}\n",
    "```"
   ]
  },
  {
   "cell_type": "code",
   "execution_count": 38,
   "metadata": {},
   "outputs": [],
   "source": [
    "processed_list = []\n",
    "\n",
    "for song in songList:\n",
    "    \n",
    "    processed = {}\n",
    "    processed['title'] = song['title']\n",
    "    processed['artist'] = song['artist']\n",
    "    processed['lyric']= ' '.join(song['lyrics'])\n",
    "    processed['lyric-reverse']= ' '.join(reversed(song['lyrics'].tolist()))\n",
    "    processed['vowel'] = ' '.join(song['ipa'])\n",
    "    processed['vowel-reverse'] = ' '.join(reversed(song['ipa'].tolist()))\n",
    "    processed['sentence'] = ' '.join(song['sentence'])\n",
    "    processed['pos'] = ' '.join(song['pos'])\n",
    "    processed['pos-reverse'] = ' '.join(reversed(song['pos'].tolist()))\n",
    "    processed['beat']= ' '.join(song['beat'])\n",
    "    processed['beat-reverse']= ' '.join(reversed(song['beat'].tolist()))\n",
    "    processed['valid']=True\n",
    "    processed_list.append(processed)\n",
    "\n",
    "    # format lyric\n",
    "jsonString = json.dumps(processed_list)\n",
    "jsonFile = open(\"mcflowLyrics.json\", \"w\")\n",
    "jsonFile.write(jsonString)\n",
    "jsonFile.close()"
   ]
  },
  {
   "cell_type": "code",
   "execution_count": 39,
   "metadata": {},
   "outputs": [],
   "source": [
    "jsonFile = open(\"mcflowLyrics2.json\",\"w\")\n",
    "\n",
    "line = jsonString\n",
    "line = line[1:-1]\n",
    "line = line.replace(\"\\\"\", \"'\")\n",
    "line = line.replace(\"true\", \"True\")\n",
    "songs = line.replace(\"}, {\",\"}\\\"\\n\\\"{\")\n",
    "songs = \"\\\"\"+songs+\"\\\"\"\n",
    "jsonFile.write(songs)\n",
    "jsonFile.close()"
   ]
  },
  {
   "cell_type": "code",
   "execution_count": null,
   "metadata": {},
   "outputs": [],
   "source": []
  }
 ],
 "metadata": {
  "kernelspec": {
   "display_name": "Python 3.8.5 64-bit",
   "language": "python",
   "name": "python3"
  },
  "language_info": {
   "codemirror_mode": {
    "name": "ipython",
    "version": 3
   },
   "file_extension": ".py",
   "mimetype": "text/x-python",
   "name": "python",
   "nbconvert_exporter": "python",
   "pygments_lexer": "ipython3",
   "version": "3.9.0"
  },
  "orig_nbformat": 4,
  "vscode": {
   "interpreter": {
    "hash": "aee8b7b246df8f9039afb4144a1f6fd8d2ca17a180786b69acc140d282b71a49"
   }
  }
 },
 "nbformat": 4,
 "nbformat_minor": 2
}
